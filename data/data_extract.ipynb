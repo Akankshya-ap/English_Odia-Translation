{
 "cells": [
  {
   "cell_type": "code",
   "execution_count": 48,
   "metadata": {
    "collapsed": true
   },
   "outputs": [],
   "source": [
    "import sys\n",
    "import os\n",
    "from bs4 import BeautifulSoup\n",
    "import requests\n",
    "import linecache\n",
    "fout = open(\"eng_odia_lvl.txt\", 'a')\n",
    "fstat = open(\"get_stat.txt\", 'r+')"
   ]
  },
  {
   "cell_type": "code",
   "execution_count": 49,
   "metadata": {
    "scrolled": true
   },
   "outputs": [
    {
     "name": "stdout",
     "output_type": "stream",
     "text": [
      "13\n",
      "14\n",
      "15\n",
      "16\n",
      "17\n",
      "18\n",
      "19\n",
      "20\n",
      "21\n",
      "22\n",
      "23\n",
      "24\n",
      "25\n",
      "26\n",
      "27\n",
      "28\n",
      "29\n",
      "30\n",
      "31\n",
      "32\n",
      "33\n",
      "34\n",
      "35\n",
      "36\n",
      "37\n",
      "38\n",
      "39\n",
      "40\n",
      "41\n",
      "42\n",
      "43\n",
      "44\n",
      "45\n",
      "46\n",
      "47\n",
      "48\n",
      "49\n",
      "50\n",
      "51\n",
      "52\n",
      "53\n",
      "54\n",
      "55\n",
      "56\n",
      "57\n",
      "58\n",
      "59\n",
      "60\n",
      "61\n",
      "Connection failed, line processed: 61 abadengo\n"
     ]
    },
    {
     "ename": "SystemExit",
     "evalue": "0",
     "output_type": "error",
     "traceback": [
      "An exception has occurred, use %tb to see the full traceback.\n",
      "\u001b[0;31mSystemExit\u001b[0m\u001b[0;31m:\u001b[0m 0\n"
     ]
    }
   ],
   "source": [
    "tot_line = 370101                                           #We know that\n",
    "count = fstat.readlines()\n",
    "count = int(count[-1].strip())                              #resume file from line no.\n",
    "for fline in range(count, tot_line + 1):\n",
    "    line = linecache.getline(\"words_alpha.txt\", count).strip()\n",
    "    url = \"http://www.odialanguage.com/dictionary/?search_string=\" + line + \"&mode=match_word&submit=Search\"\n",
    "    try:\n",
    "        page = requests.get(url, timeout = 2)\n",
    "    except:\n",
    "        print \"Connection failed, line processed:\", count, line\n",
    "        fstat.write(str(count) + '\\n')\n",
    "        fstat.close()\n",
    "        fout.close()\n",
    "        sys.exit(0)\n",
    "    count += 1\n",
    "    print count\n",
    "    soup = BeautifulSoup(page.content, \"html.parser\")\n",
    "    html = list(soup.children)[2]\n",
    "    body = list(html.children)[3]\n",
    "    form = list(body.children)[3]\n",
    "    div = list(form.children)[1]\n",
    "    table = list(div.children)[5]\n",
    "    tbody = list(table.children)[1]\n",
    "    words =  [e for e in list(tbody.children) if e != u'\\n']\n",
    "    words = words[1 : ]\n",
    "    for word in words:\n",
    "        lines = list(word.children)\n",
    "        eng_line = lines[1]\n",
    "        level = lines[3]\n",
    "        level = list(level.children)[0][1 : ]\n",
    "        odia_line = lines[4]\n",
    "        eng_line = list((list(eng_line.children)[0]).children)[0]\n",
    "        eng_line = eng_line.lower()\n",
    "        odia_line = str(odia_line)\n",
    "        odia_line = odia_line.replace('<td>', '')             #formatting odia_line\n",
    "        odia_line = odia_line.replace('</td>', '')\n",
    "        odia_line = odia_line.replace('<br/>', '\\n')\n",
    "        odia_line = odia_line[: odia_line.find('\\\"')]\n",
    "        odia_line = odia_line.replace(\"\\xc2\\xa0\", \"_\")\n",
    "        odia_line = odia_line.replace(\" \", \"_\")\n",
    "        odia_line = odia_line.replace(\"\\n\", \" \")\n",
    "        odia_line = odia_line.replace(\"\\r\", \"\")\n",
    "        fout.write(eng_line + ': ')\n",
    "        fout.write(odia_line)\n",
    "        fout.write(': ' + level + '\\n')"
   ]
  },
  {
   "cell_type": "code",
   "execution_count": 23,
   "metadata": {},
   "outputs": [],
   "source": [
    "fout.close()"
   ]
  },
  {
   "cell_type": "code",
   "execution_count": null,
   "metadata": {
    "collapsed": true
   },
   "outputs": [],
   "source": []
  }
 ],
 "metadata": {
  "kernelspec": {
   "display_name": "Python 2",
   "language": "python",
   "name": "python2"
  },
  "language_info": {
   "codemirror_mode": {
    "name": "ipython",
    "version": 2
   },
   "file_extension": ".py",
   "mimetype": "text/x-python",
   "name": "python",
   "nbconvert_exporter": "python",
   "pygments_lexer": "ipython2",
   "version": "2.7.12"
  }
 },
 "nbformat": 4,
 "nbformat_minor": 2
}

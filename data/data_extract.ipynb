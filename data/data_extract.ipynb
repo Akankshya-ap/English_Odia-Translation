{
 "cells": [
  {
   "cell_type": "code",
   "execution_count": 56,
   "metadata": {
    "collapsed": true
   },
   "outputs": [],
   "source": [
    "from bs4 import BeautifulSoup\n",
    "import requests\n",
    "fhand = open(\"words_alpha.txt\", 'r')\n",
    "fout = open(\"eng_odia_lvl.txt\", 'w')"
   ]
  },
  {
   "cell_type": "code",
   "execution_count": 57,
   "metadata": {},
   "outputs": [
    {
     "name": "stdout",
     "output_type": "stream",
     "text": [
      "200\n",
      "200\n",
      "200\n"
     ]
    }
   ],
   "source": [
    "count = 0\n",
    "for line in fhand:\n",
    "    line = line.strip()\n",
    "    url = \"http://www.odialanguage.com/dictionary/?search_string=\" + line + \"&mode=match_word&submit=Search\"\n",
    "    page = requests.get(url)\n",
    "    print page.status_code\n",
    "    if page.status_code != 200:\n",
    "        count += 1\n",
    "    soup = BeautifulSoup(page.content, \"html.parser\")\n",
    "    html = list(soup.children)[2]\n",
    "    body = list(html.children)[3]\n",
    "    form = list(body.children)[3]\n",
    "    div = list(form.children)[1]\n",
    "    table = list(div.children)[5]\n",
    "    tbody = list(table.children)[1]\n",
    "    words =  [e for e in list(tbody.children) if e != u'\\n']\n",
    "    words = words[1 : ]\n",
    "    for word in words:\n",
    "        lines = list(word.children)\n",
    "        eng_line = lines[1]\n",
    "        level = lines[3]\n",
    "        level = list(level.children)[0][1 : ]\n",
    "        odia_line = lines[4]\n",
    "        eng_line = list((list(eng_line.children)[0]).children)[0]\n",
    "        eng_line = eng_line.lower()\n",
    "        odia_line = str(odia_line)\n",
    "        odia_line = odia_line.replace('<td>', '')             #formatting odia_line\n",
    "        odia_line = odia_line.replace('</td>', '')\n",
    "        odia_line = odia_line.replace('<br/>', '\\n')\n",
    "        odia_line = odia_line[: odia_line.find('\\\"')]\n",
    "        odia_line = odia_line.replace(\"\\xc2\\xa0\", \"_\")\n",
    "        odia_line = odia_line.replace(\" \", \"_\")\n",
    "        odia_line = odia_line.replace(\"\\n\", \" \")\n",
    "        odia_line = odia_line.replace(\"\\r\", \"\")\n",
    "        fout.write(eng_line + ': ')\n",
    "        fout.write(odia_line)\n",
    "        fout.write(': ' + level + '\\n')"
   ]
  },
  {
   "cell_type": "code",
   "execution_count": 58,
   "metadata": {
    "collapsed": true
   },
   "outputs": [],
   "source": [
    "print 'Total words fail to load', count\n",
    "fout.close()\n",
    "fhand.close()"
   ]
  },
  {
   "cell_type": "code",
   "execution_count": null,
   "metadata": {
    "collapsed": true
   },
   "outputs": [],
   "source": []
  }
 ],
 "metadata": {
  "kernelspec": {
   "display_name": "Python 2",
   "language": "python",
   "name": "python2"
  },
  "language_info": {
   "codemirror_mode": {
    "name": "ipython",
    "version": 2
   },
   "file_extension": ".py",
   "mimetype": "text/x-python",
   "name": "python",
   "nbconvert_exporter": "python",
   "pygments_lexer": "ipython2",
   "version": "2.7.12"
  }
 },
 "nbformat": 4,
 "nbformat_minor": 2
}

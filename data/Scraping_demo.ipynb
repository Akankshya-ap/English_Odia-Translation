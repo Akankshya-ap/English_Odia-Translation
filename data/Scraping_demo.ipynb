{
 "cells": [
  {
   "cell_type": "markdown",
   "metadata": {},
   "source": [
    "# Collect Odia words by web-scrapping\n",
    "Website to collect - http://www.odialanguage.com/dictionary/\n",
    "\n",
    "Example - Search odia word equivalent to 'alike' or similar words like 'alike'\n",
    "\n",
    "Try another word like \"high\" instead of \"alike\" in the following url and see the results"
   ]
  },
  {
   "cell_type": "code",
   "execution_count": 51,
   "metadata": {},
   "outputs": [
    {
     "data": {
      "text/plain": [
       "200"
      ]
     },
     "execution_count": 51,
     "metadata": {},
     "output_type": "execute_result"
    }
   ],
   "source": [
    "import requests\n",
    "\n",
    "url = \"http://www.odialanguage.com/dictionary/?search_string=alike&mode=match_word&submit=Search\"\n",
    "page = requests.get(url)\n",
    "page.status_code #If response starts with 2--, then page access successful"
   ]
  },
  {
   "cell_type": "code",
   "execution_count": 52,
   "metadata": {
    "collapsed": true
   },
   "outputs": [],
   "source": [
    "from bs4 import BeautifulSoup                               #If you inspect the webpage, then you will understand\n",
    "soup = BeautifulSoup(page.content, \"html.parser\")           #all the variables declared here and eng-odia words\n",
    "#print soup.prettify()                                      #extracted\n",
    "html = list(soup.children)[2]\n",
    "#print html\n",
    "body = list(html.children)[3]\n",
    "form = list(body.children)[3]\n",
    "div = list(form.children)[1]\n",
    "table = list(div.children)[5]\n",
    "tbody = list(table.children)[1]\n",
    "#print list(tbody.children)[0] == u'\\n'\n",
    "words =  [e for e in list(tbody.children) if e != u'\\n']\n",
    "words = words[1 : ]\n",
    "#words"
   ]
  },
  {
   "cell_type": "code",
   "execution_count": 54,
   "metadata": {
    "scrolled": false
   },
   "outputs": [
    {
     "name": "stdout",
     "output_type": "stream",
     "text": [
      "alike  ଏକ_ସମାନ\n",
      "look-alike  କାହା_ପରି_ଲାଗିବା\n"
     ]
    }
   ],
   "source": [
    "for word in words:\n",
    "    lines = list(word.children)\n",
    "    #print lines\n",
    "    eng_line = lines[1]\n",
    "    level = lines[3]\n",
    "    level = list(level.children)[0][1 : ]\n",
    "    odia_line = lines[4]\n",
    "    #print eng_line, odia_line\n",
    "    eng_line = list((list(eng_line.children)[0]).children)[0]\n",
    "    eng_line = eng_line.lower()\n",
    "    odia_line = str(odia_line)\n",
    "    odia_line = odia_line.replace('<td>', '')                #formatting odia_line\n",
    "    odia_line = odia_line.replace('</td>', '')\n",
    "    odia_line = odia_line.replace('<br/>', '\\n')\n",
    "    odia_line = odia_line[: odia_line.find('\\\"')]\n",
    "    odia_line = odia_line.replace(\"\\xc2\\xa0\", \"_\")           #english word: one or more existing odia words \n",
    "    odia_line = odia_line.replace(\" \", \"_\")                  #translated seperated by space: level of english word\n",
    "    odia_line = odia_line.replace(\"\\n\", \" \")\n",
    "    odia_line = odia_line.replace(\"\\r\", \"\")\n",
    "    print eng_line, odia_line                                #We will store in a format of\n",
    "    #print level                                             #alike: ଏକ_ସମାନ: Adv\n",
    "    #print odia_word"
   ]
  },
  {
   "cell_type": "code",
   "execution_count": null,
   "metadata": {
    "collapsed": true
   },
   "outputs": [],
   "source": []
  }
 ],
 "metadata": {
  "kernelspec": {
   "display_name": "Python 2",
   "language": "python",
   "name": "python2"
  },
  "language_info": {
   "codemirror_mode": {
    "name": "ipython",
    "version": 2
   },
   "file_extension": ".py",
   "mimetype": "text/x-python",
   "name": "python",
   "nbconvert_exporter": "python",
   "pygments_lexer": "ipython2",
   "version": "2.7.12"
  }
 },
 "nbformat": 4,
 "nbformat_minor": 2
}

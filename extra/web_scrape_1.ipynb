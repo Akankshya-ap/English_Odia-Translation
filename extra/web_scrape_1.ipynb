{
 "cells": [
  {
   "cell_type": "code",
   "execution_count": 3,
   "metadata": {},
   "outputs": [
    {
     "data": {
      "text/plain": [
       "200"
      ]
     },
     "execution_count": 3,
     "metadata": {},
     "output_type": "execute_result"
    }
   ],
   "source": [
    "from bs4 import BeautifulSoup\n",
    "import requests\n",
    "url=(\"http://www.odialanguage.com/dictionary/?search_string=alike&mode=match_word&submit=Search\")\n",
    "r=requests.get(url)\n",
    "r.status_code"
   ]
  },
  {
   "cell_type": "code",
   "execution_count": 4,
   "metadata": {
    "collapsed": true
   },
   "outputs": [],
   "source": [
    "from bs4 import BeautifulSoup\n",
    "soup=BeautifulSoup(r.content,'html.parser')\n",
    "#print(soup.prettify())"
   ]
  },
  {
   "cell_type": "code",
   "execution_count": 5,
   "metadata": {
    "collapsed": true
   },
   "outputs": [],
   "source": [
    "#list(soup.children)"
   ]
  },
  {
   "cell_type": "code",
   "execution_count": 6,
   "metadata": {},
   "outputs": [
    {
     "name": "stdout",
     "output_type": "stream",
     "text": [
      "[u'html PUBLIC \"-//W3C//DTD HTML 4.01 Transitional//EN\"', u'\\n', <html>\\n<head>\\n<title>English to Odia Dictionary</title>\\n<meta content=\"text/html; charset=unicode-escape\" http-equiv=\"Content-Type\"/>\\n<style type=\"text/css\"><!--\\n#ques {\\n\\t\\t\\tbackground:SteelBlue ;\\n\\t\\t\\tcolor: Navy;\\n\\t\\t\\tfont-family:OdiaOTJagannathaNormal;\\n\\t\\t\\tfont-weight: bold;\\n\\t\\t\\tfont-size : 14;\\n\\t\\t\\tpadding: 2px;\\n\\t\\t}\\n\\n#dict {\\n        text-decoration: none;\\n        color: grey;\\n        font-family: OdiaOTJagannathaNormal;\\n        font-size: smaller;\\n}\\n\\n--></style>\\n<script src=\"jquery.js\" type=\"text/javascript\"></script>\\n<script src=\"lekhaodia.js\" type=\"text/javascript\"></script>\\n<script src=\"fieldCriteria.js\" type=\"text/javascript\"></script>\\n<script language=\"javascript\" type=\"text/javascript\">\\n\\n\\nvar OSName=\"Unknown OS\";\\nvar browserName=\"Unknown browser\";\\n\\nif (navigator.userAgent.indexOf(\"Windows NT 5\")!=-1) OSName=\"WinXP\";\\nif (navigator.userAgent.indexOf(\"Windows NT 6\")!=-1) OSName=\"Win7\";\\nif (navigator.userAgent.indexOf(\"Mac\")!=-1) OSName=\"MacOS\";\\nif (navigator.userAgent.indexOf(\"X11\")!=-1) OSName=\"UNIX\";\\nif (navigator.userAgent.indexOf(\"Linux\")!=-1) OSName=\"Linux\";\\n\\n\\nif(navigator.appName.indexOf(\"Internet Explorer\") != -1) {\\n \\nbrowserName=\"IE\";\\n} else {\\nbrowserName=\"NonIE\";\\n}\\n\\n\\nif ( OSName ==\"WinXP\") {\\n\\nif(browserName==\"NonIE\") {\\n\\n\\ndocument.write(\"<style type='text/css'>\");\\ndocument.write(\" @font-face { font-family:'OdiaOTJagannathaNormal';font-style:  normal;font-weight: normal;\");\\ndocument.write(\" src: url('fonts/OdiaOTJagannathaNormal.ttf') format('truetype') ; } \");\\ndocument.write(\" </style>\");\\n\\n} else {\\n\\ndocument.write(\"<style type='text/css'>\");\\ndocument.write(\" @font-face { font-family:'OdiaOTJagannathaNormal';font-style:  normal;font-weight: normal;\");\\ndocument.write(\"   src: url(fonts/OdiaOTJagannathaNormal.eot); }\");\\ndocument.write(\" </style>\");\\n}\\n} else {\\n\\nif(browserName==\"NonIE\") {\\n\\ndocument.write(\"<style type='text/css'>\");\\ndocument.write(\" @font-face { font-family:'OdiaOTJagannathaNormal';font-style:  normal;font-weight: normal;\");\\ndocument.write(\" src: url(fonts/OdiaOTJagannathaNormal.ttf) format('truetype') ; } \");\\t\\t\\t\\t          \\ndocument.write(\" </style>\");\\n\\n} else {\\n\\ndocument.write(\"<style type='text/css'>\");\\ndocument.write(\" @font-face { font-family:'OdiaOTJagannathaNormal';font-style:  normal;font-weight: normal;\");\\ndocument.write(\"src: url(fonts/OdiaOTJagannathaNormal.eot); }\");\\ndocument.write(\" </style>\");\\n}\\n\\n}\\n\\n\\n</script>\\n<style type=\"text/css\">\\n@font-face\\n{\\n  font-family: 'OdiaOTJagannathaNormal';\\n  src: url('fonts/OdiaOTJagannathaNormal.eot');\\n  src: url('fonts/OdiaOTJagannathaNormal.eot?#iefix') format('embedded-opentype'),\\n       url('fonts/OdiaOTJagannathaNormal.woff2') format('woff2'),\\n       url('fonts/OdiaOTJagannathaNormal.woff') format('woff'),\\n       url('fonts/OdiaOTJagannathaNormal.ttf') format('truetype'),\\n       url('fonts/OdiaOTJagannathaNormal.svg#OdiaOTJagannathaNormal') format('svg');\\n  font-weight: normal;\\n  font-style: normal;\\n}\\n\\nbody\\n{\\nfont-family:OdiaOTJagannathaNormal;\\nfont-size: medium;\\ntext-align:justify;\\ntext-decoration:none;\\n}\\na{\\n\\ttext-decoration:none;\\n}\\n</style>\\n</head>\\n<body background=\"bg.gif\" bgcolor=\"#F4F4F4\" leftmargin=\"0\" marginheight=\"0\" marginwidth=\"0\" topmargin=\"0\">\\n<table align=\"center\" border=\"0\" width=\"100%\">\\n<tr>\\n<td align=\"center\" background=\"dictopbg.jpg\" height=\"99\" valign=\"top\"><br/><img alt=\"logo\" height=\"54\" src=\"diclogo.png\" width=\"501\"/></td>\\n</tr>\\n</table>\\n<form action=\"\" enctype=\"text/plain\" method=\"get\" name=\"eng2te\">\\n<div align=\"right\" style=\"font-family:OdiaOTJagannathaNormal; font-size:100%;\">\\n<table align=\"center\" border=\"0\" width=\"80%\">\\n<tbody>\\n<tr><td align=\"center\" valign=\"top\">\\n<div align=\"center\" style=\"font-family:OdiaOTJagannathaNormal; font-size:100%;\"></div>\\n<br/>\\n<div style=\"text-align: center; font-size:100%; color:Navy\"><b>Search Word \\xa0</b>\\n<input name=\"search_string\" value=\"alike\"/>\\xa0\\xa0\\n<select name=\"mode\">\\n<option selected=\"selected\" value=\"match_word\">Match Word</option>\\n<option value=\"match_context\">Match Context</option>\\n</select>\\xa0\\n<span style=\"font-family:OdiaOTJagannathaNormal; font-size:80%;\"><a href=\"suggestions.php\"> <b>User Suggestions</b></a>\\xa0</span></div><br/>\\n<div colspan=\"2\" rowspan=\"1\" style=\"text-align: center; vertical-align: top;\"><input name=\"submit\" type=\"submit\" value=\"Search\"/>\\xa0\\xa0 <input name=\"reset\" type=\"Reset\" value=\"Reset\"/>\\n</div></td>\\n</tr>\\n<tr></tr><tr></tr><tr></tr><tr></tr><tr></tr><tr></tr><tr></tr><tr></tr>\\n<tr><td> <div align=\"center\" style=\"font-family:OdiaOTJagannathaNormal; font-size:80%; color:Navy\"><a href=\"?search=A\">A</a>\\xa0\\n      <a href=\"?search=B\">B</a>\\xa0\\n      <a href=\"?search=C\">C</a>\\xa0\\n      <a href=\"?search=D\">D</a>\\xa0\\n      <a href=\"?search=E\">E</a>\\xa0\\n      <a href=\"?search=F\">F</a>\\xa0\\n      <a href=\"?search=G\">G</a>\\xa0\\n      <a href=\"?search=H\">H</a>\\xa0\\n      <a href=\"?search=I\">I</a>\\xa0\\n      <a href=\"?search=J\">J</a>\\xa0\\n      <a href=\"?search=K\">K</a>\\xa0\\n      <a href=\"?search=L\">L</a>\\xa0\\n      <a href=\"?search=M\">M</a>\\xa0\\n      <a href=\"?search=N\">N</a>\\xa0\\n      <a href=\"?search=O\">O</a>\\xa0\\n      <a href=\"?search=P\">P</a>\\xa0\\n      <a href=\"?search=Q\">Q</a>\\xa0\\n      <a href=\"?search=R\">R</a>\\xa0\\n      <a href=\"?search=S\">S</a>\\xa0\\n      <a href=\"?search=T\">T</a>\\xa0\\n      <a href=\"?search=U\">U</a>\\xa0\\n      <a href=\"?search=V\">V</a>\\xa0\\n      <a href=\"?search=W\">W</a>\\xa0\\n      <a href=\"?search=X\">X</a>\\xa0\\n      <a href=\"?search=Y\">Y</a>\\xa0\\n      <a href=\"?search=Z\">Z</a>\\xa0</div></td></tr></tbody></table>\\n<br/><br/><table align=\"center\" border=\"0\" width=\"80%\">\\n<tbody>\\n<tr><td id=\"ques\" width=\"300\"></td><td id=\"ques\" width=\"100\"></td><td id=\"ques\" width=\"400\"></td></tr>\\n<tr>\\n<td style=\"vertical-align: top;\"><strong>alike</strong></td>\\n<td style=\"vertical-align: top;\">\\nAdv</td><td>\\n\\u0b0f\\u0b15\\xa0\\u0b38\\u0b2e\\u0b3e\\u0b28\"\\r\\n</td>\\n</tr>\\n<tr>\\n<td style=\"vertical-align: top;\"><strong>look-alike</strong></td>\\n<td style=\"vertical-align: top;\">\\nAdj</td><td>\\n\\u0b15\\u0b3e\\u0b39\\u0b3e\\xa0\\u0b2a\\u0b30\\u0b3f\\xa0\\u0b32\\u0b3e\\u0b17\\u0b3f\\u0b2c\\u0b3e\"\\r\\n</td>\\n</tr>\\n</tbody>\\n</table>\\n</div>\\n</form>\\n</body>\\n</html>, u'\\n']\n"
     ]
    }
   ],
   "source": [
    "html=list(soup.children)\n",
    "print html\n"
   ]
  },
  {
   "cell_type": "code",
   "execution_count": null,
   "metadata": {
    "collapsed": true
   },
   "outputs": [],
   "source": []
  }
 ],
 "metadata": {
  "kernelspec": {
   "display_name": "Python 2",
   "language": "python",
   "name": "python2"
  },
  "language_info": {
   "codemirror_mode": {
    "name": "ipython",
    "version": 2
   },
   "file_extension": ".py",
   "mimetype": "text/x-python",
   "name": "python",
   "nbconvert_exporter": "python",
   "pygments_lexer": "ipython2",
   "version": "2.7.12"
  }
 },
 "nbformat": 4,
 "nbformat_minor": 2
}

{
 "cells": [
  {
   "cell_type": "code",
   "execution_count": 13,
   "metadata": {},
   "outputs": [
    {
     "name": "stdout",
     "output_type": "stream",
     "text": [
      "['(PRP I)', '(NN food)', '(NN yesterday)', '(VBG eating)', '(VBD was)']\n",
      "['(PRP I)', '(VBG eating)', '(VBD was)']\n"
     ]
    }
   ],
   "source": [
    "\n",
    "from util import reorder\n",
    "import re\n",
    "##print reorder('What were you doing yesterday')\n",
    "##print reorder('When are you going to school')\n",
    "'''output = [m[0]]\n",
    "m='I was going to school'\n",
    "for item in m:\n",
    "    if re.search(r'VB+', item):\n",
    "        output.append(item)'''\n",
    "l= reorder('I was eating food yesterday')\n",
    "print l\n",
    "output = [l[0]]\n",
    "for item in l:\n",
    "    if re.search(r'VB+', item):\n",
    "        output.append(item)        \n",
    "#output = filter(output, None)\n",
    "print output\n",
    "def ret_out():\n",
    "    return output"
   ]
  },
  {
   "cell_type": "code",
   "execution_count": null,
   "metadata": {
    "collapsed": true
   },
   "outputs": [],
   "source": []
  },
  {
   "cell_type": "code",
   "execution_count": null,
   "metadata": {
    "collapsed": true
   },
   "outputs": [],
   "source": []
  }
 ],
 "metadata": {
  "kernelspec": {
   "display_name": "Python 2",
   "language": "python",
   "name": "python2"
  },
  "language_info": {
   "codemirror_mode": {
    "name": "ipython",
    "version": 2
   },
   "file_extension": ".py",
   "mimetype": "text/x-python",
   "name": "python",
   "nbconvert_exporter": "python",
   "pygments_lexer": "ipython2",
   "version": "2.7.12"
  }
 },
 "nbformat": 4,
 "nbformat_minor": 2
}

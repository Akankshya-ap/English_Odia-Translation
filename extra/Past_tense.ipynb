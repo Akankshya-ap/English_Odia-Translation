{
 "cells": [
  {
   "cell_type": "code",
   "execution_count": 14,
   "metadata": {
    "scrolled": false
   },
   "outputs": [
    {
     "name": "stdout",
     "output_type": "stream",
     "text": [
      "['I', 'was', 'eating']\n",
      "[('I', 'PRP'), ('was', 'VBD'), ('eating', 'VBG')]\n",
      "khaaaasutthili\n"
     ]
    }
   ],
   "source": [
    "import nltk\n",
    "#from example import ret_out\n",
    "from nltk import regexp_tokenize\n",
    "sent=\"I was eating\"\n",
    "suf=''\n",
    "text=regexp_tokenize(sent,\"[\\w']+\")\n",
    "#text=[('PRP', 'I'), ('VBG', 'going'), ('VBD', 'was')]\n",
    "print text\n",
    "print nltk.pos_tag(text)\n",
    "l=[('PRP', 'I'), ('VBG', 'eating'), ('VBN', 'been'), ('VBD', 'had')]\n",
    "\n",
    "\n",
    "#text=ret_out()\n",
    "c=0\n",
    "k=0\n",
    "#print len(text)\n",
    "for i in range(0,(len(l))):\n",
    "    x=l[i][0]\n",
    "    r={\"VBD\":1,\n",
    "       \"VBD\":2,\n",
    "       \"VBG\":2,\n",
    "       \"VBN\":3,\n",
    "    }\n",
    "    if x in r:\n",
    "        c=c+1\n",
    "        k1=r[x]\n",
    "\n",
    "y=l[0][1]\n",
    "s={\n",
    "    \"I\":1,\n",
    "    \"We\":2,\n",
    "    \"You\":3,\n",
    "    \"She\" or \"He\":4,\n",
    "    \"They\":5,\n",
    "  }\n",
    "if y in s:\n",
    "    k2=s[y]\n",
    "\n",
    "if(k2==1):\n",
    "    if(k1==1):\n",
    "        suf=\"eechhi\"\n",
    "    elif(k1==2 and c==2):\n",
    "        suf=\"uuthhili\"\n",
    "    elif(k1==2 and c==3):\n",
    "        suf=\"aasutthili\"\n",
    "    elif(k1==3):\n",
    "        suf=\"eethhili\"\n",
    "if(k2==2):\n",
    "    if(k1==1):\n",
    "        suf=\"uuchhu\"\n",
    "    elif(k1==2 and c==2):\n",
    "        suf=\"uuthhile\"\n",
    "    elif(k1==2 and c==3):\n",
    "        suf=\"aasutthile\"\n",
    "    elif(k1==3):\n",
    "        suf=\"eethhile\"\n",
    "if(k2==3):\n",
    "    if(k1==1):\n",
    "        suf=\"uuchha\"\n",
    "    elif(k1==2 and c==2):\n",
    "        suf=\"uuthhila\"\n",
    "    elif(k1==2 and c==3):\n",
    "        suf=\"aasutthila\"\n",
    "    elif(k1==3):\n",
    "        suf=\"eethhila\"\n",
    "if(k2==4):\n",
    "    if(k1==2 and c==1):\n",
    "        suf=\"eechhee\"\n",
    "    elif(k1==2 and c==2):\n",
    "        suf=\"uuthhilaa\"\n",
    "    elif(k1==2 and c==3):\n",
    "        suf=\"aasutthilaa\"\n",
    "    elif(k1==3):\n",
    "        suf=\"eethhilaa\" \n",
    "if(k2==5):\n",
    "    if(k1==1):\n",
    "        suf=\"uuchhanthi\"\n",
    "    elif(k1==2 and c==2):\n",
    "        suf=\"uuthhile\"\n",
    "    elif(k1==2 and c==3):\n",
    "        suf=\"aasutthile\"\n",
    "    elif(k1==3):\n",
    "        suf=\"eethhile\"\n",
    "        \n",
    "print(\"khaa\"+suf)"
   ]
  },
  {
   "cell_type": "code",
   "execution_count": null,
   "metadata": {
    "collapsed": true
   },
   "outputs": [],
   "source": []
  },
  {
   "cell_type": "code",
   "execution_count": null,
   "metadata": {
    "collapsed": true
   },
   "outputs": [],
   "source": []
  },
  {
   "cell_type": "code",
   "execution_count": null,
   "metadata": {
    "collapsed": true
   },
   "outputs": [],
   "source": []
  }
 ],
 "metadata": {
  "kernelspec": {
   "display_name": "Python 2",
   "language": "python",
   "name": "python2"
  },
  "language_info": {
   "codemirror_mode": {
    "name": "ipython",
    "version": 2
   },
   "file_extension": ".py",
   "mimetype": "text/x-python",
   "name": "python",
   "nbconvert_exporter": "python",
   "pygments_lexer": "ipython2",
   "version": "2.7.12"
  }
 },
 "nbformat": 4,
 "nbformat_minor": 2
}

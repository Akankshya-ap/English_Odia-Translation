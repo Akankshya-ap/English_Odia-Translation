{
 "cells": [
  {
   "cell_type": "code",
   "execution_count": 5,
   "metadata": {},
   "outputs": [
    {
     "name": "stdout",
     "output_type": "stream",
     "text": [
      "['Hi', 'this', 'is', 'Akankshya', \"I'm\", 'currently', 'pusuing', 'B', 'Tech', 'engineering', 'in', 'the', 'department', 'of', 'Computer', 'Science', 'My', 'roll', 'no', 'is', '115cs0231']\n"
     ]
    },
    {
     "data": {
      "text/plain": [
       "[('Hi', 'NNP'),\n",
       " ('this', 'DT'),\n",
       " ('is', 'VBZ'),\n",
       " ('Akankshya', 'NNP'),\n",
       " (\"I'm\", 'NNP'),\n",
       " ('currently', 'RB'),\n",
       " ('pusuing', 'VBG'),\n",
       " ('B', 'NNP'),\n",
       " ('Tech', 'NNP'),\n",
       " ('engineering', 'NN'),\n",
       " ('in', 'IN'),\n",
       " ('the', 'DT'),\n",
       " ('department', 'NN'),\n",
       " ('of', 'IN'),\n",
       " ('Computer', 'NNP'),\n",
       " ('Science', 'NNP'),\n",
       " ('My', 'NNP'),\n",
       " ('roll', 'NN'),\n",
       " ('no', 'DT'),\n",
       " ('is', 'VBZ'),\n",
       " ('115cs0231', 'CD')]"
      ]
     },
     "execution_count": 5,
     "metadata": {},
     "output_type": "execute_result"
    }
   ],
   "source": [
    "from nltk import regexp_tokenize\n",
    "sent=\"Hi this is Akankshya. I'm currently pusuing B.Tech engineering in the department of Computer Science. My roll no is 115cs0231.\"\n",
    "text=regexp_tokenize(sent,\"[\\w']+\")\n",
    "#print text\n",
    "nltk.pos_tag(text)"
   ]
  },
  {
   "cell_type": "code",
   "execution_count": null,
   "metadata": {
    "collapsed": true
   },
   "outputs": [],
   "source": []
  }
 ],
 "metadata": {
  "kernelspec": {
   "display_name": "Python 2",
   "language": "python",
   "name": "python2"
  },
  "language_info": {
   "codemirror_mode": {
    "name": "ipython",
    "version": 2
   },
   "file_extension": ".py",
   "mimetype": "text/x-python",
   "name": "python",
   "nbconvert_exporter": "python",
   "pygments_lexer": "ipython2",
   "version": "2.7.12"
  }
 },
 "nbformat": 4,
 "nbformat_minor": 2
}
